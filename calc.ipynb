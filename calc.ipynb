#I'm trying to open google colab
